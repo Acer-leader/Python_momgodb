{
 "cells": [
  {
   "cell_type": "code",
   "execution_count": 2,
   "metadata": {},
   "outputs": [],
   "source": [
    "import numpy as np \n",
    "dataset_filename = \"affinity_dataset.txt\" \n",
    "X = np.loadtxt(dataset_filename) "
   ]
  },
  {
   "cell_type": "code",
   "execution_count": 3,
   "metadata": {},
   "outputs": [
    {
     "name": "stdout",
     "output_type": "stream",
     "text": [
      "[[0. 0. 1. 1. 1.]\n",
      " [1. 1. 0. 1. 0.]\n",
      " [1. 0. 1. 1. 0.]\n",
      " [0. 0. 1. 1. 1.]\n",
      " [0. 1. 0. 0. 1.]]\n"
     ]
    }
   ],
   "source": [
    "print(X[:5])"
   ]
  },
  {
   "cell_type": "code",
   "execution_count": 4,
   "metadata": {},
   "outputs": [],
   "source": [
    "# 建立一个列表集来尝试\n",
    "features = [\"bread\", \"milk\", \"cheese\", \"apples\", \"bananas\"]\n"
   ]
  },
  {
   "cell_type": "code",
   "execution_count": 6,
   "metadata": {},
   "outputs": [
    {
     "name": "stdout",
     "output_type": "stream",
     "text": [
      "36 people bought Apples\n"
     ]
    }
   ],
   "source": [
    "# First, how many rows contain our premise: that a person is buying apples\n",
    "num_apple_purchases = 0\n",
    "for sample in X:\n",
    "    if sample[3] == 1:  # This person bought Apples\n",
    "        num_apple_purchases += 1\n",
    "print(\"{0} people bought Apples\".format(num_apple_purchases))"
   ]
  },
  {
   "cell_type": "code",
   "execution_count": 7,
   "metadata": {},
   "outputs": [
    {
     "name": "stdout",
     "output_type": "stream",
     "text": [
      "21个人买了香蕉和苹果\n",
      "15个人只卖了苹果\n"
     ]
    }
   ],
   "source": [
    "num_apple_bananas_rule = 0\n",
    "num_bananas_rule = 0\n",
    "for num in X:\n",
    "    if num[3] == 1:  # 这个人买了苹果\n",
    "        if num[4] == 1: #这个人不仅买了苹果而且买了香蕉\n",
    "            num_apple_bananas_rule += 1\n",
    "        else:\n",
    "            num_bananas_rule += 1  # 这个人只买了苹果没买香蕉\n",
    "print(\"{0}个人买了香蕉和苹果\".format(num_apple_bananas_rule))\n",
    "print(\"{0}个人只卖了苹果\".format(num_bananas_rule))"
   ]
  },
  {
   "cell_type": "code",
   "execution_count": null,
   "metadata": {},
   "outputs": [],
   "source": []
  }
 ],
 "metadata": {
  "kernelspec": {
   "display_name": "Python 3",
   "language": "python",
   "name": "python3"
  },
  "language_info": {
   "codemirror_mode": {
    "name": "ipython",
    "version": 3
   },
   "file_extension": ".py",
   "mimetype": "text/x-python",
   "name": "python",
   "nbconvert_exporter": "python",
   "pygments_lexer": "ipython3",
   "version": "3.6.5"
  }
 },
 "nbformat": 4,
 "nbformat_minor": 2
}
