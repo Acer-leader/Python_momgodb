{
 "cells": [
  {
   "cell_type": "code",
   "execution_count": 2,
   "metadata": {},
   "outputs": [],
   "source": [
    "import numpy as np \n",
    "dataset_filename = \"affinity_dataset.txt\" \n",
    "X = np.loadtxt(dataset_filename) "
   ]
  },
  {
   "cell_type": "code",
   "execution_count": 3,
   "metadata": {},
   "outputs": [
    {
     "name": "stdout",
     "output_type": "stream",
     "text": [
      "[[0. 0. 1. 1. 1.]\n",
      " [1. 1. 0. 1. 0.]\n",
      " [1. 0. 1. 1. 0.]\n",
      " [0. 0. 1. 1. 1.]\n",
      " [0. 1. 0. 0. 1.]]\n"
     ]
    }
   ],
   "source": [
    "print(X[:5])"
   ]
  },
  {
   "cell_type": "code",
   "execution_count": 9,
   "metadata": {},
   "outputs": [],
   "source": [
    "# 建立一个列表集来尝试\n",
    "features = [\"bread\", \"milk\", \"cheese\", \"apples\", \"bananas\"]\n"
   ]
  },
  {
   "cell_type": "code",
   "execution_count": 6,
   "metadata": {},
   "outputs": [
    {
     "name": "stdout",
     "output_type": "stream",
     "text": [
      "36 people bought Apples\n"
     ]
    }
   ],
   "source": [
    "# First, how many rows contain our premise: that a person is buying apples\n",
    "num_apple_purchases = 0\n",
    "for sample in X:\n",
    "    if sample[3] == 1:  # This person bought Apples\n",
    "        num_apple_purchases += 1\n",
    "print(\"{0} people bought Apples\".format(num_apple_purchases))"
   ]
  },
  {
   "cell_type": "code",
   "execution_count": 7,
   "metadata": {},
   "outputs": [
    {
     "name": "stdout",
     "output_type": "stream",
     "text": [
      "21个人买了香蕉和苹果\n",
      "15个人只卖了苹果\n"
     ]
    }
   ],
   "source": [
    "num_apple_bananas_rule = 0\n",
    "num_bananas_rule = 0\n",
    "for num in X:\n",
    "    if num[3] == 1:  # 这个人买了苹果\n",
    "        if num[4] == 1: #这个人不仅买了苹果而且买了香蕉\n",
    "            num_apple_bananas_rule += 1\n",
    "        else:\n",
    "            num_bananas_rule += 1  # 这个人只买了苹果没买香蕉\n",
    "print(\"{0}个人买了香蕉和苹果\".format(num_apple_bananas_rule))\n",
    "print(\"{0}个人只卖了苹果\".format(num_bananas_rule))"
   ]
  },
  {
   "cell_type": "code",
   "execution_count": 10,
   "metadata": {},
   "outputs": [
    {
     "name": "stdout",
     "output_type": "stream",
     "text": [
      "Rule:如果一个人买了apples 他们也买了bananas\n",
      "-支持度-Support:21\n",
      "-confidence-置信度：0.583\n",
      "置信度的百分比函数58.3%.\n"
     ]
    }
   ],
   "source": [
    "from collections import defaultdict\n",
    "# Now compute for all possible rules\n",
    "valid_rules = defaultdict(int)\n",
    "invalid_rules = defaultdict(int)\n",
    "num_occurences = defaultdict(int)\n",
    "\n",
    "'''\n",
    "为了计算所有规则的置信度和支持度，首先创建几个字典，用来存放计算结果。这里使用\n",
    "defaultdict，好处是如果查找的键不存在，返回一个默认值\n",
    "sample 为 X 的数值\n",
    "\n",
    "#特征索引值、支持度字典、置信度字典以及特征列表。\n",
    "'''\n",
    "for sample in X:\n",
    "    for premise in range(len(features)):\n",
    "        if sample[premise] == 0: continue\n",
    "        # Record that the premise was bought in another transaction\n",
    "        num_occurences[premise] += 1\n",
    "        for conclusion in range(len(features)):\n",
    "            if premise == conclusion:  # It makes little sense to measure if X -> X.\n",
    "                continue\n",
    "            if sample[conclusion] == 1:\n",
    "                # This person also bought the conclusion item\n",
    "                valid_rules[(premise, conclusion)] += 1\n",
    "            else:\n",
    "                # This person bought the premise, but not the conclusion\n",
    "                invalid_rules[(premise, conclusion)] += 1\n",
    "support = valid_rules\n",
    "confidence = defaultdict(float)\n",
    "for premise, conclusion in valid_rules.keys():\n",
    "    confidence[(premise, conclusion)] = valid_rules[(premise, conclusion)] / num_occurences[premise]\n",
    "#次循环所有商品俩个的支持程度\n",
    "#for premise, conclusion in confidence:\n",
    "def print_rule(premise, conclusion, support, confidence, features):\n",
    "                #特征索引值、支持度字典、置信度字典以及特征列表。\n",
    "    premise_name = features[premise]\n",
    "    conclusion_name = features[conclusion]\n",
    "    print(\"Rule:如果一个人买了{0} 他们也买了{1}\".format(premise_name,conclusion_name))\n",
    "    print(\"-支持度-Support:{0}\".format(support[(premise,conclusion)]))\n",
    "    print(\"-confidence-置信度：{0:.3f}\".format(confidence[(premise,conclusion)]))\n",
    "    print(\"置信度的百分比函数{0:.1f}%.\".format(100 * confidence[(premise,conclusion)]))\n",
    "print_rule(3, 4, support, confidence, features)\n",
    "   "
   ]
  },
  {
   "cell_type": "code",
   "execution_count": null,
   "metadata": {},
   "outputs": [],
   "source": [
    " "
   ]
  }
 ],
 "metadata": {
  "kernelspec": {
   "display_name": "Python 3",
   "language": "python",
   "name": "python3"
  },
  "language_info": {
   "codemirror_mode": {
    "name": "ipython",
    "version": 3
   },
   "file_extension": ".py",
   "mimetype": "text/x-python",
   "name": "python",
   "nbconvert_exporter": "python",
   "pygments_lexer": "ipython3",
   "version": "3.6.5"
  }
 },
 "nbformat": 4,
 "nbformat_minor": 2
}
